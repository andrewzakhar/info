{
 "cells": [
  {
   "cell_type": "code",
   "execution_count": 1,
   "metadata": {},
   "outputs": [
    {
     "name": "stdout",
     "output_type": "stream",
     "text": [
      "Populating the interactive namespace from numpy and matplotlib\n"
     ]
    }
   ],
   "source": [
    "import pandas as pd\n",
    "import numpy as np\n",
    "import matplotlib.dates\n",
    "import matplotlib.pyplot as plt\n",
    "import scipy.stats as stats\n",
    "import datetime\n",
    "import os\n",
    "import seaborn as sns\n",
    "%matplotlib inline\n",
    "%pylab inline"
   ]
  },
  {
   "cell_type": "code",
   "execution_count": 2,
   "metadata": {},
   "outputs": [],
   "source": [
    "oilfield_ = 'Восточно-Пякутинское'"
   ]
  },
  {
   "cell_type": "code",
   "execution_count": 3,
   "metadata": {},
   "outputs": [],
   "source": [
    "os.chdir(r'F:\\Work\\Данные для виртуальной расходометрии\\Ноябрьск'\n",
    "         r'\\информация для виртуального расходомера\\ГРАД' + '\\\\' + oilfield_ + r'\\Скважины')\n"
   ]
  },
  {
   "cell_type": "code",
   "execution_count": 4,
   "metadata": {},
   "outputs": [
    {
     "name": "stdout",
     "output_type": "stream",
     "text": [
      "['6013.csv']\n"
     ]
    }
   ],
   "source": [
    "filenames = []\n",
    "for file in os.listdir(os.getcwd()):\n",
    "    filenames.append(file)\n",
    "print(filenames)"
   ]
  },
  {
   "cell_type": "code",
   "execution_count": 6,
   "metadata": {},
   "outputs": [],
   "source": [
    "for filename in filenames:\n",
    "    data = pd.read_csv(filename, header=0, index_col=False, sep=';', encoding=\"windows 1251\")\n",
    "    data.drop(columns=['Месторождение', 'Скважина ОИС', 'Дата Общая'], inplace=True)\n",
    "    well_params = data['Параметр'].unique()\n",
    "    data_new = pd.DataFrame(columns=['Дата', well_params])\n",
    "    d = dict()\n",
    "    for wells in well_params:\n",
    "        d['Дата'] = data['Дата точная'].values\n",
    "        d[wells] = data.loc[data['Параметр'] == wells]['Значение']\n",
    "    data_new = pd.DataFrame.from_dict(d)\n",
    "    data_new['Дата'] = pd.to_datetime(data_new['Дата'], dayfirst=True)\n",
    "    data_new.set_index(data_new['Дата'],inplace=True)\n",
    "    data_new.drop(columns=['Дата'], inplace=True)\n",
    "    data_new = data_new.resample('1h').mean()\n",
    "    data_new.to_csv('test_mean_1h ' + filename[:4] +'.csv', encoding=\"utf-8-sig\")"
   ]
  },
  {
   "cell_type": "code",
   "execution_count": null,
   "metadata": {},
   "outputs": [],
   "source": []
  }
 ],
 "metadata": {
  "kernelspec": {
   "display_name": "Python 3",
   "language": "python",
   "name": "python3"
  },
  "language_info": {
   "codemirror_mode": {
    "name": "ipython",
    "version": 3
   },
   "file_extension": ".py",
   "mimetype": "text/x-python",
   "name": "python",
   "nbconvert_exporter": "python",
   "pygments_lexer": "ipython3",
   "version": "3.6.5"
  }
 },
 "nbformat": 4,
 "nbformat_minor": 2
}
